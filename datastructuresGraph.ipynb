{
  "nbformat": 4,
  "nbformat_minor": 0,
  "metadata": {
    "colab": {
      "provenance": [],
      "authorship_tag": "ABX9TyOdJBRE3HkVzDqRljLO7uGF"
    },
    "kernelspec": {
      "name": "python3",
      "display_name": "Python 3"
    },
    "language_info": {
      "name": "python"
    }
  },
  "cells": [
    {
      "cell_type": "code",
      "execution_count": 2,
      "metadata": {
        "id": "a7s8p8uledSU"
      },
      "outputs": [],
      "source": [
        "# ---------------------------------------------------------------------\n",
        "# Data Structures and Algorithms\n",
        "# !!!!!!  Graphs !!!!!!!!\n",
        "\n",
        "# ---------------------------------------------------------------------\n",
        "# Vertices (or) points (or) Nodes\n",
        "# Edges (or) Lines (or) Links\n",
        "# Undirected Graphs\n",
        "# Directed Graphs\n",
        "# Self loops\n",
        "\n",
        "# ---------------------------------------------------------------------\n",
        "# Paths , N nodes , N-1 Edges\n",
        "# ( N-1 Edges signifies that minimun number of edges to connect n nodes )\n",
        "# Simple path\n",
        "\n",
        "# ---------------------------------------------------------------------\n",
        "# Undirected Graph - If every pair of Nodes has a path ( N-1 ) - No Arrow\n",
        "\n",
        "# ---------------------------------------------------------------------\n",
        "# Directed Graph\n",
        "#      weekly connected -->  atleast has one directed path between vertices\n",
        "#      strongly connected --> has bidirectional paths between vertices\n"
      ]
    },
    {
      "cell_type": "code",
      "source": [
        "# Creating a graph of friends in social network\n",
        "\n",
        "graph = dict()\n",
        "\n",
        "graph[\"Adrian\"]\n",
        "graph[\"Brooke\"]\n",
        "graph[\"Carson\"]\n",
        "graph[\"Dallas\"]\n",
        "graph[\"Eva\"]\n",
        "graph[\"Frances\"]\n",
        "\n",
        "\n",
        "graph[\"Adrian\",\"Brooke\",\"Carson\",\"Dallas\",\"Eva\",\"Frances\"]\n"
      ],
      "metadata": {
        "id": "M2fi6rG-iDCy"
      },
      "execution_count": null,
      "outputs": []
    }
  ]
}