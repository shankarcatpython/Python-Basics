{
  "nbformat": 4,
  "nbformat_minor": 0,
  "metadata": {
    "colab": {
      "provenance": [],
      "authorship_tag": "ABX9TyOG5ziRYP9y7a9bRWc7oWqD"
    },
    "kernelspec": {
      "name": "python3",
      "display_name": "Python 3"
    },
    "language_info": {
      "name": "python"
    }
  },
  "cells": [
    {
      "cell_type": "code",
      "execution_count": 1,
      "metadata": {
        "id": "N1HZAqoTz9Ul"
      },
      "outputs": [],
      "source": [
        "import numpy as np"
      ]
    },
    {
      "cell_type": "code",
      "source": [
        "# Create Numpy array\n",
        "# range ( get a sequence of numbers )\n",
        "# arange ( gets array of numbers ) compatiable with np\n",
        "\n",
        "range_nparray = np.array(range(1,200))\n",
        "arange_nparray = np.arange(1,200)"
      ],
      "metadata": {
        "id": "JP1dNY0_0AWE"
      },
      "execution_count": 2,
      "outputs": []
    },
    {
      "cell_type": "code",
      "source": [
        "range_nparray"
      ],
      "metadata": {
        "colab": {
          "base_uri": "https://localhost:8080/"
        },
        "id": "QJD-lZtS3Ktc",
        "outputId": "4004071b-ac8f-4cf3-bd61-21807901c58d"
      },
      "execution_count": 3,
      "outputs": [
        {
          "output_type": "execute_result",
          "data": {
            "text/plain": [
              "array([  1,   2,   3,   4,   5,   6,   7,   8,   9,  10,  11,  12,  13,\n",
              "        14,  15,  16,  17,  18,  19,  20,  21,  22,  23,  24,  25,  26,\n",
              "        27,  28,  29,  30,  31,  32,  33,  34,  35,  36,  37,  38,  39,\n",
              "        40,  41,  42,  43,  44,  45,  46,  47,  48,  49,  50,  51,  52,\n",
              "        53,  54,  55,  56,  57,  58,  59,  60,  61,  62,  63,  64,  65,\n",
              "        66,  67,  68,  69,  70,  71,  72,  73,  74,  75,  76,  77,  78,\n",
              "        79,  80,  81,  82,  83,  84,  85,  86,  87,  88,  89,  90,  91,\n",
              "        92,  93,  94,  95,  96,  97,  98,  99, 100, 101, 102, 103, 104,\n",
              "       105, 106, 107, 108, 109, 110, 111, 112, 113, 114, 115, 116, 117,\n",
              "       118, 119, 120, 121, 122, 123, 124, 125, 126, 127, 128, 129, 130,\n",
              "       131, 132, 133, 134, 135, 136, 137, 138, 139, 140, 141, 142, 143,\n",
              "       144, 145, 146, 147, 148, 149, 150, 151, 152, 153, 154, 155, 156,\n",
              "       157, 158, 159, 160, 161, 162, 163, 164, 165, 166, 167, 168, 169,\n",
              "       170, 171, 172, 173, 174, 175, 176, 177, 178, 179, 180, 181, 182,\n",
              "       183, 184, 185, 186, 187, 188, 189, 190, 191, 192, 193, 194, 195,\n",
              "       196, 197, 198, 199])"
            ]
          },
          "metadata": {},
          "execution_count": 3
        }
      ]
    },
    {
      "cell_type": "code",
      "source": [
        "arange_nparray"
      ],
      "metadata": {
        "colab": {
          "base_uri": "https://localhost:8080/"
        },
        "id": "tD19gMr03NpZ",
        "outputId": "119eca1e-13af-4bb4-af81-12f91c6de1f2"
      },
      "execution_count": 4,
      "outputs": [
        {
          "output_type": "execute_result",
          "data": {
            "text/plain": [
              "array([  1,   2,   3,   4,   5,   6,   7,   8,   9,  10,  11,  12,  13,\n",
              "        14,  15,  16,  17,  18,  19,  20,  21,  22,  23,  24,  25,  26,\n",
              "        27,  28,  29,  30,  31,  32,  33,  34,  35,  36,  37,  38,  39,\n",
              "        40,  41,  42,  43,  44,  45,  46,  47,  48,  49,  50,  51,  52,\n",
              "        53,  54,  55,  56,  57,  58,  59,  60,  61,  62,  63,  64,  65,\n",
              "        66,  67,  68,  69,  70,  71,  72,  73,  74,  75,  76,  77,  78,\n",
              "        79,  80,  81,  82,  83,  84,  85,  86,  87,  88,  89,  90,  91,\n",
              "        92,  93,  94,  95,  96,  97,  98,  99, 100, 101, 102, 103, 104,\n",
              "       105, 106, 107, 108, 109, 110, 111, 112, 113, 114, 115, 116, 117,\n",
              "       118, 119, 120, 121, 122, 123, 124, 125, 126, 127, 128, 129, 130,\n",
              "       131, 132, 133, 134, 135, 136, 137, 138, 139, 140, 141, 142, 143,\n",
              "       144, 145, 146, 147, 148, 149, 150, 151, 152, 153, 154, 155, 156,\n",
              "       157, 158, 159, 160, 161, 162, 163, 164, 165, 166, 167, 168, 169,\n",
              "       170, 171, 172, 173, 174, 175, 176, 177, 178, 179, 180, 181, 182,\n",
              "       183, 184, 185, 186, 187, 188, 189, 190, 191, 192, 193, 194, 195,\n",
              "       196, 197, 198, 199])"
            ]
          },
          "metadata": {},
          "execution_count": 4
        }
      ]
    },
    {
      "cell_type": "code",
      "source": [
        "# Create zeros numpy array\n",
        "zeros_nparray = np.zeros(10)"
      ],
      "metadata": {
        "id": "SZSdUa-W0cai"
      },
      "execution_count": 5,
      "outputs": []
    },
    {
      "cell_type": "code",
      "source": [
        "zeros_nparray"
      ],
      "metadata": {
        "colab": {
          "base_uri": "https://localhost:8080/"
        },
        "id": "zs52hZE93QLw",
        "outputId": "032b0276-5164-42dc-d51b-88dce43bc51f"
      },
      "execution_count": 6,
      "outputs": [
        {
          "output_type": "execute_result",
          "data": {
            "text/plain": [
              "array([0., 0., 0., 0., 0., 0., 0., 0., 0., 0.])"
            ]
          },
          "metadata": {},
          "execution_count": 6
        }
      ]
    },
    {
      "cell_type": "code",
      "source": [
        "# Create ones numpy array\n",
        "ones_nparray = np.ones(20)"
      ],
      "metadata": {
        "id": "O8F2n33-0y9x"
      },
      "execution_count": 7,
      "outputs": []
    },
    {
      "cell_type": "code",
      "source": [
        "ones_nparray"
      ],
      "metadata": {
        "colab": {
          "base_uri": "https://localhost:8080/"
        },
        "id": "TdUqAAkM3TFR",
        "outputId": "fcad26a4-b03d-4eaa-cb15-e5ecc7b93bb5"
      },
      "execution_count": 8,
      "outputs": [
        {
          "output_type": "execute_result",
          "data": {
            "text/plain": [
              "array([1., 1., 1., 1., 1., 1., 1., 1., 1., 1., 1., 1., 1., 1., 1., 1., 1.,\n",
              "       1., 1., 1.])"
            ]
          },
          "metadata": {},
          "execution_count": 8
        }
      ]
    },
    {
      "cell_type": "code",
      "source": [
        "# Create empty numpy array\n",
        "empty_nparray = np.empty(15)"
      ],
      "metadata": {
        "id": "QS30LxmZ2eya"
      },
      "execution_count": 9,
      "outputs": []
    },
    {
      "cell_type": "code",
      "source": [
        "empty_nparray"
      ],
      "metadata": {
        "colab": {
          "base_uri": "https://localhost:8080/"
        },
        "id": "7h4FrmlZ3Vw_",
        "outputId": "a19fe572-e68e-43fa-c3eb-89214ca925b7"
      },
      "execution_count": 10,
      "outputs": [
        {
          "output_type": "execute_result",
          "data": {
            "text/plain": [
              "array([4.81598192e-310, 0.00000000e+000, 6.85271996e-310, 6.85271984e-310,\n",
              "       6.85271984e-310, 6.85271982e-310, 6.85271999e-310, 6.85271996e-310,\n",
              "       6.85271999e-310, 6.85271984e-310, 6.85269890e-310, 1.63041663e-322,\n",
              "       4.81481972e-310, 6.85272027e-310, 6.32404027e-322])"
            ]
          },
          "metadata": {},
          "execution_count": 10
        }
      ]
    },
    {
      "cell_type": "code",
      "source": [
        "# Create linear space numpy array\n",
        "linear_nparray = np.linspace(0,20,5)"
      ],
      "metadata": {
        "id": "gbN8-izx2lpS"
      },
      "execution_count": 11,
      "outputs": []
    },
    {
      "cell_type": "code",
      "source": [
        "linear_nparray"
      ],
      "metadata": {
        "colab": {
          "base_uri": "https://localhost:8080/"
        },
        "id": "N2tOZlsp2yfL",
        "outputId": "91294f44-cecd-42ea-e5eb-9040223b2bf8"
      },
      "execution_count": 12,
      "outputs": [
        {
          "output_type": "execute_result",
          "data": {
            "text/plain": [
              "array([ 0.,  5., 10., 15., 20.])"
            ]
          },
          "metadata": {},
          "execution_count": 12
        }
      ]
    },
    {
      "cell_type": "code",
      "source": [
        "# Sort Numpy array\n",
        "np.sort(empty_nparray)"
      ],
      "metadata": {
        "colab": {
          "base_uri": "https://localhost:8080/"
        },
        "id": "kALmczs03bDI",
        "outputId": "59f68713-f5c0-4fce-ed66-7343fc6d4dd7"
      },
      "execution_count": 13,
      "outputs": [
        {
          "output_type": "execute_result",
          "data": {
            "text/plain": [
              "array([0.00000000e+000, 1.63041663e-322, 6.32404027e-322, 4.81481972e-310,\n",
              "       4.81598192e-310, 6.85269890e-310, 6.85271982e-310, 6.85271984e-310,\n",
              "       6.85271984e-310, 6.85271984e-310, 6.85271996e-310, 6.85271996e-310,\n",
              "       6.85271999e-310, 6.85271999e-310, 6.85272027e-310])"
            ]
          },
          "metadata": {},
          "execution_count": 13
        }
      ]
    },
    {
      "cell_type": "code",
      "source": [
        "# Concatenate 2 numpy array\n",
        "np.sort(np.concatenate((np.ones(10),np.empty(25))))"
      ],
      "metadata": {
        "colab": {
          "base_uri": "https://localhost:8080/"
        },
        "id": "m2LwoTaF3saD",
        "outputId": "57d01e3e-902b-4c12-c287-e1ed8e19994d"
      },
      "execution_count": 14,
      "outputs": [
        {
          "output_type": "execute_result",
          "data": {
            "text/plain": [
              "array([0.00000000e+000, 1.41500401e-320, 4.81598119e-310, 6.85270020e-310,\n",
              "       6.85270020e-310, 6.85271996e-310, 6.85271996e-310, 6.85271996e-310,\n",
              "       6.85271996e-310, 6.85271996e-310, 6.85271996e-310, 6.85271996e-310,\n",
              "       6.85271996e-310, 6.85271996e-310, 6.85271996e-310, 6.85271996e-310,\n",
              "       6.85271996e-310, 6.85271996e-310, 6.85271996e-310, 6.85271996e-310,\n",
              "       6.85271996e-310, 6.85271996e-310, 6.85271996e-310, 6.85271996e-310,\n",
              "       6.85272000e-310, 1.00000000e+000, 1.00000000e+000, 1.00000000e+000,\n",
              "       1.00000000e+000, 1.00000000e+000, 1.00000000e+000, 1.00000000e+000,\n",
              "       1.00000000e+000, 1.00000000e+000, 1.00000000e+000])"
            ]
          },
          "metadata": {},
          "execution_count": 14
        }
      ]
    },
    {
      "cell_type": "code",
      "source": [
        "# Reshaping the array\n",
        "onedim_nparray = np.ones(720)"
      ],
      "metadata": {
        "id": "6kYlaVwX35_3"
      },
      "execution_count": 15,
      "outputs": []
    },
    {
      "cell_type": "code",
      "source": [
        "onedim_nparray.ndim"
      ],
      "metadata": {
        "colab": {
          "base_uri": "https://localhost:8080/"
        },
        "id": "SmViLAsE4Rpr",
        "outputId": "31e4e504-fa74-4373-d97f-0aba83a9ba64"
      },
      "execution_count": 16,
      "outputs": [
        {
          "output_type": "execute_result",
          "data": {
            "text/plain": [
              "1"
            ]
          },
          "metadata": {},
          "execution_count": 16
        }
      ]
    },
    {
      "cell_type": "code",
      "source": [
        "# Reshape one dimensional array\n",
        "twodim_nparray = onedim_nparray.reshape(72,10)"
      ],
      "metadata": {
        "id": "6v_-BM9-4xBX"
      },
      "execution_count": 17,
      "outputs": []
    },
    {
      "cell_type": "code",
      "source": [
        "# Obtain dimension of array\n",
        "twodim_nparray.ndim"
      ],
      "metadata": {
        "colab": {
          "base_uri": "https://localhost:8080/"
        },
        "id": "fY8sFyPC5A1z",
        "outputId": "c50ec6a6-224f-414b-c868-d43ab6067bf4"
      },
      "execution_count": 18,
      "outputs": [
        {
          "output_type": "execute_result",
          "data": {
            "text/plain": [
              "2"
            ]
          },
          "metadata": {},
          "execution_count": 18
        }
      ]
    },
    {
      "cell_type": "code",
      "source": [
        "# Obtain shape of numpy array\n",
        "twodim_nparray.shape"
      ],
      "metadata": {
        "colab": {
          "base_uri": "https://localhost:8080/"
        },
        "id": "uIFQkwNP5PR3",
        "outputId": "d76fbb5e-e27c-40b9-a5ca-7c631faf5c86"
      },
      "execution_count": 19,
      "outputs": [
        {
          "output_type": "execute_result",
          "data": {
            "text/plain": [
              "(72, 10)"
            ]
          },
          "metadata": {},
          "execution_count": 19
        }
      ]
    },
    {
      "cell_type": "code",
      "source": [
        "# Flatten numpy array\n",
        "twodim_nparray.flatten()"
      ],
      "metadata": {
        "colab": {
          "base_uri": "https://localhost:8080/"
        },
        "id": "G6sdUsLL5YsB",
        "outputId": "b6f63901-f8d3-4224-b235-e38b336490fb"
      },
      "execution_count": 20,
      "outputs": [
        {
          "output_type": "execute_result",
          "data": {
            "text/plain": [
              "array([1., 1., 1., 1., 1., 1., 1., 1., 1., 1., 1., 1., 1., 1., 1., 1., 1.,\n",
              "       1., 1., 1., 1., 1., 1., 1., 1., 1., 1., 1., 1., 1., 1., 1., 1., 1.,\n",
              "       1., 1., 1., 1., 1., 1., 1., 1., 1., 1., 1., 1., 1., 1., 1., 1., 1.,\n",
              "       1., 1., 1., 1., 1., 1., 1., 1., 1., 1., 1., 1., 1., 1., 1., 1., 1.,\n",
              "       1., 1., 1., 1., 1., 1., 1., 1., 1., 1., 1., 1., 1., 1., 1., 1., 1.,\n",
              "       1., 1., 1., 1., 1., 1., 1., 1., 1., 1., 1., 1., 1., 1., 1., 1., 1.,\n",
              "       1., 1., 1., 1., 1., 1., 1., 1., 1., 1., 1., 1., 1., 1., 1., 1., 1.,\n",
              "       1., 1., 1., 1., 1., 1., 1., 1., 1., 1., 1., 1., 1., 1., 1., 1., 1.,\n",
              "       1., 1., 1., 1., 1., 1., 1., 1., 1., 1., 1., 1., 1., 1., 1., 1., 1.,\n",
              "       1., 1., 1., 1., 1., 1., 1., 1., 1., 1., 1., 1., 1., 1., 1., 1., 1.,\n",
              "       1., 1., 1., 1., 1., 1., 1., 1., 1., 1., 1., 1., 1., 1., 1., 1., 1.,\n",
              "       1., 1., 1., 1., 1., 1., 1., 1., 1., 1., 1., 1., 1., 1., 1., 1., 1.,\n",
              "       1., 1., 1., 1., 1., 1., 1., 1., 1., 1., 1., 1., 1., 1., 1., 1., 1.,\n",
              "       1., 1., 1., 1., 1., 1., 1., 1., 1., 1., 1., 1., 1., 1., 1., 1., 1.,\n",
              "       1., 1., 1., 1., 1., 1., 1., 1., 1., 1., 1., 1., 1., 1., 1., 1., 1.,\n",
              "       1., 1., 1., 1., 1., 1., 1., 1., 1., 1., 1., 1., 1., 1., 1., 1., 1.,\n",
              "       1., 1., 1., 1., 1., 1., 1., 1., 1., 1., 1., 1., 1., 1., 1., 1., 1.,\n",
              "       1., 1., 1., 1., 1., 1., 1., 1., 1., 1., 1., 1., 1., 1., 1., 1., 1.,\n",
              "       1., 1., 1., 1., 1., 1., 1., 1., 1., 1., 1., 1., 1., 1., 1., 1., 1.,\n",
              "       1., 1., 1., 1., 1., 1., 1., 1., 1., 1., 1., 1., 1., 1., 1., 1., 1.,\n",
              "       1., 1., 1., 1., 1., 1., 1., 1., 1., 1., 1., 1., 1., 1., 1., 1., 1.,\n",
              "       1., 1., 1., 1., 1., 1., 1., 1., 1., 1., 1., 1., 1., 1., 1., 1., 1.,\n",
              "       1., 1., 1., 1., 1., 1., 1., 1., 1., 1., 1., 1., 1., 1., 1., 1., 1.,\n",
              "       1., 1., 1., 1., 1., 1., 1., 1., 1., 1., 1., 1., 1., 1., 1., 1., 1.,\n",
              "       1., 1., 1., 1., 1., 1., 1., 1., 1., 1., 1., 1., 1., 1., 1., 1., 1.,\n",
              "       1., 1., 1., 1., 1., 1., 1., 1., 1., 1., 1., 1., 1., 1., 1., 1., 1.,\n",
              "       1., 1., 1., 1., 1., 1., 1., 1., 1., 1., 1., 1., 1., 1., 1., 1., 1.,\n",
              "       1., 1., 1., 1., 1., 1., 1., 1., 1., 1., 1., 1., 1., 1., 1., 1., 1.,\n",
              "       1., 1., 1., 1., 1., 1., 1., 1., 1., 1., 1., 1., 1., 1., 1., 1., 1.,\n",
              "       1., 1., 1., 1., 1., 1., 1., 1., 1., 1., 1., 1., 1., 1., 1., 1., 1.,\n",
              "       1., 1., 1., 1., 1., 1., 1., 1., 1., 1., 1., 1., 1., 1., 1., 1., 1.,\n",
              "       1., 1., 1., 1., 1., 1., 1., 1., 1., 1., 1., 1., 1., 1., 1., 1., 1.,\n",
              "       1., 1., 1., 1., 1., 1., 1., 1., 1., 1., 1., 1., 1., 1., 1., 1., 1.,\n",
              "       1., 1., 1., 1., 1., 1., 1., 1., 1., 1., 1., 1., 1., 1., 1., 1., 1.,\n",
              "       1., 1., 1., 1., 1., 1., 1., 1., 1., 1., 1., 1., 1., 1., 1., 1., 1.,\n",
              "       1., 1., 1., 1., 1., 1., 1., 1., 1., 1., 1., 1., 1., 1., 1., 1., 1.,\n",
              "       1., 1., 1., 1., 1., 1., 1., 1., 1., 1., 1., 1., 1., 1., 1., 1., 1.,\n",
              "       1., 1., 1., 1., 1., 1., 1., 1., 1., 1., 1., 1., 1., 1., 1., 1., 1.,\n",
              "       1., 1., 1., 1., 1., 1., 1., 1., 1., 1., 1., 1., 1., 1., 1., 1., 1.,\n",
              "       1., 1., 1., 1., 1., 1., 1., 1., 1., 1., 1., 1., 1., 1., 1., 1., 1.,\n",
              "       1., 1., 1., 1., 1., 1., 1., 1., 1., 1., 1., 1., 1., 1., 1., 1., 1.,\n",
              "       1., 1., 1., 1., 1., 1., 1., 1., 1., 1., 1., 1., 1., 1., 1., 1., 1.,\n",
              "       1., 1., 1., 1., 1., 1.])"
            ]
          },
          "metadata": {},
          "execution_count": 20
        }
      ]
    },
    {
      "cell_type": "code",
      "source": [
        "# create multidimension array\n",
        "twodim_nparray.flatten().reshape(10,9,2,4).ndim"
      ],
      "metadata": {
        "colab": {
          "base_uri": "https://localhost:8080/"
        },
        "id": "TBSgl4Sd6JU5",
        "outputId": "6ba78a69-958d-4a8e-a2fd-e884ec4d33d5"
      },
      "execution_count": 21,
      "outputs": [
        {
          "output_type": "execute_result",
          "data": {
            "text/plain": [
              "4"
            ]
          },
          "metadata": {},
          "execution_count": 21
        }
      ]
    },
    {
      "cell_type": "code",
      "source": [
        "# create multidimension array\n",
        "multidim_array = twodim_nparray.flatten().reshape(10,9,2,4)"
      ],
      "metadata": {
        "id": "5JyeRW9S7GrE"
      },
      "execution_count": 22,
      "outputs": []
    },
    {
      "cell_type": "code",
      "source": [
        "multidim_array[0]"
      ],
      "metadata": {
        "colab": {
          "base_uri": "https://localhost:8080/"
        },
        "id": "LoHBtJq77RUv",
        "outputId": "4822c49b-7c97-4a96-f1d7-f3a2cd220476"
      },
      "execution_count": 23,
      "outputs": [
        {
          "output_type": "execute_result",
          "data": {
            "text/plain": [
              "array([[[1., 1., 1., 1.],\n",
              "        [1., 1., 1., 1.]],\n",
              "\n",
              "       [[1., 1., 1., 1.],\n",
              "        [1., 1., 1., 1.]],\n",
              "\n",
              "       [[1., 1., 1., 1.],\n",
              "        [1., 1., 1., 1.]],\n",
              "\n",
              "       [[1., 1., 1., 1.],\n",
              "        [1., 1., 1., 1.]],\n",
              "\n",
              "       [[1., 1., 1., 1.],\n",
              "        [1., 1., 1., 1.]],\n",
              "\n",
              "       [[1., 1., 1., 1.],\n",
              "        [1., 1., 1., 1.]],\n",
              "\n",
              "       [[1., 1., 1., 1.],\n",
              "        [1., 1., 1., 1.]],\n",
              "\n",
              "       [[1., 1., 1., 1.],\n",
              "        [1., 1., 1., 1.]],\n",
              "\n",
              "       [[1., 1., 1., 1.],\n",
              "        [1., 1., 1., 1.]]])"
            ]
          },
          "metadata": {},
          "execution_count": 23
        }
      ]
    },
    {
      "cell_type": "code",
      "source": [
        "# Manipulation on nparray\n",
        "manipulate_nparray = np.arange(1,99)"
      ],
      "metadata": {
        "id": "_jcAppz57XVJ"
      },
      "execution_count": 24,
      "outputs": []
    },
    {
      "cell_type": "code",
      "source": [
        "# !!! Important , internally numpy creates array of boolean value\n",
        "\n",
        "boolean_array = (manipulate_nparray < 10) | (manipulate_nparray > 30)"
      ],
      "metadata": {
        "id": "4GqC5NFq8FdN"
      },
      "execution_count": 25,
      "outputs": []
    },
    {
      "cell_type": "code",
      "source": [
        "manipulate_nparray[boolean_array]"
      ],
      "metadata": {
        "colab": {
          "base_uri": "https://localhost:8080/"
        },
        "id": "aSGOb61-8J4m",
        "outputId": "00c4199d-6398-4854-c17f-a560bae55378"
      },
      "execution_count": 26,
      "outputs": [
        {
          "output_type": "execute_result",
          "data": {
            "text/plain": [
              "array([ 1,  2,  3,  4,  5,  6,  7,  8,  9, 31, 32, 33, 34, 35, 36, 37, 38,\n",
              "       39, 40, 41, 42, 43, 44, 45, 46, 47, 48, 49, 50, 51, 52, 53, 54, 55,\n",
              "       56, 57, 58, 59, 60, 61, 62, 63, 64, 65, 66, 67, 68, 69, 70, 71, 72,\n",
              "       73, 74, 75, 76, 77, 78, 79, 80, 81, 82, 83, 84, 85, 86, 87, 88, 89,\n",
              "       90, 91, 92, 93, 94, 95, 96, 97, 98])"
            ]
          },
          "metadata": {},
          "execution_count": 26
        }
      ]
    },
    {
      "cell_type": "code",
      "source": [
        "multidim_manipulate_nparray = np.arange(0,100).reshape(10,5,2)"
      ],
      "metadata": {
        "id": "-KY9rc8d8T4u"
      },
      "execution_count": 27,
      "outputs": []
    },
    {
      "cell_type": "code",
      "source": [
        "multi_boolean_array = (multidim_manipulate_nparray < 10) | (multidim_manipulate_nparray > 30)"
      ],
      "metadata": {
        "id": "HcuZUSU99NLH"
      },
      "execution_count": 28,
      "outputs": []
    },
    {
      "cell_type": "code",
      "source": [
        "multidim_manipulate_nparray[multi_boolean_array]"
      ],
      "metadata": {
        "colab": {
          "base_uri": "https://localhost:8080/"
        },
        "id": "uq2WMhur9WJK",
        "outputId": "c9810e86-6afa-45a6-8ff2-d517e81b9f58"
      },
      "execution_count": 29,
      "outputs": [
        {
          "output_type": "execute_result",
          "data": {
            "text/plain": [
              "array([ 0,  1,  2,  3,  4,  5,  6,  7,  8,  9, 31, 32, 33, 34, 35, 36, 37,\n",
              "       38, 39, 40, 41, 42, 43, 44, 45, 46, 47, 48, 49, 50, 51, 52, 53, 54,\n",
              "       55, 56, 57, 58, 59, 60, 61, 62, 63, 64, 65, 66, 67, 68, 69, 70, 71,\n",
              "       72, 73, 74, 75, 76, 77, 78, 79, 80, 81, 82, 83, 84, 85, 86, 87, 88,\n",
              "       89, 90, 91, 92, 93, 94, 95, 96, 97, 98, 99])"
            ]
          },
          "metadata": {},
          "execution_count": 29
        }
      ]
    },
    {
      "cell_type": "code",
      "source": [
        "# Capture the indices\n",
        "np.nonzero(multidim_manipulate_nparray == 3)"
      ],
      "metadata": {
        "colab": {
          "base_uri": "https://localhost:8080/"
        },
        "id": "RRH3ccb69Y_z",
        "outputId": "95b89b21-3559-4aa1-bd61-ef957a6a0d98"
      },
      "execution_count": 30,
      "outputs": [
        {
          "output_type": "execute_result",
          "data": {
            "text/plain": [
              "(array([0]), array([1]), array([1]))"
            ]
          },
          "metadata": {},
          "execution_count": 30
        }
      ]
    },
    {
      "cell_type": "code",
      "source": [
        "multidim_manipulate_nparray[0,1,1]"
      ],
      "metadata": {
        "colab": {
          "base_uri": "https://localhost:8080/"
        },
        "id": "z-WendsD-AxD",
        "outputId": "773a6ec6-90c1-40c2-eb52-468ac9de8e0d"
      },
      "execution_count": 31,
      "outputs": [
        {
          "output_type": "execute_result",
          "data": {
            "text/plain": [
              "3"
            ]
          },
          "metadata": {},
          "execution_count": 31
        }
      ]
    },
    {
      "cell_type": "code",
      "source": [
        "# Capture indices in readable format\n",
        "\n",
        "indices_multidim = np.nonzero(multidim_manipulate_nparray < 10)"
      ],
      "metadata": {
        "id": "yUN2UTpp-5MP"
      },
      "execution_count": 32,
      "outputs": []
    },
    {
      "cell_type": "code",
      "source": [
        "indices_readable_format = list(zip(indices_multidim[0],indices_multidim[1],indices_multidim [2]))"
      ],
      "metadata": {
        "id": "5Tbvbq1n_LZA"
      },
      "execution_count": 33,
      "outputs": []
    },
    {
      "cell_type": "code",
      "source": [
        "indices_readable_format"
      ],
      "metadata": {
        "colab": {
          "base_uri": "https://localhost:8080/"
        },
        "id": "aq4wI0Dq_afg",
        "outputId": "7d63a6cd-4c97-4dc8-df5c-9c19c1aa5538"
      },
      "execution_count": 34,
      "outputs": [
        {
          "output_type": "execute_result",
          "data": {
            "text/plain": [
              "[(0, 0, 0),\n",
              " (0, 0, 1),\n",
              " (0, 1, 0),\n",
              " (0, 1, 1),\n",
              " (0, 2, 0),\n",
              " (0, 2, 1),\n",
              " (0, 3, 0),\n",
              " (0, 3, 1),\n",
              " (0, 4, 0),\n",
              " (0, 4, 1)]"
            ]
          },
          "metadata": {},
          "execution_count": 34
        }
      ]
    },
    {
      "cell_type": "code",
      "source": [
        "for value in indices_readable_format:\n",
        "  print(value)"
      ],
      "metadata": {
        "colab": {
          "base_uri": "https://localhost:8080/"
        },
        "id": "_8xT7AZA_h5F",
        "outputId": "14c8d6bd-f45a-4766-b501-20f245b20359"
      },
      "execution_count": 35,
      "outputs": [
        {
          "output_type": "stream",
          "name": "stdout",
          "text": [
            "(0, 0, 0)\n",
            "(0, 0, 1)\n",
            "(0, 1, 0)\n",
            "(0, 1, 1)\n",
            "(0, 2, 0)\n",
            "(0, 2, 1)\n",
            "(0, 3, 0)\n",
            "(0, 3, 1)\n",
            "(0, 4, 0)\n",
            "(0, 4, 1)\n"
          ]
        }
      ]
    },
    {
      "cell_type": "code",
      "source": [
        "# Operation Addtion\n",
        "\n",
        "indices_multidim[0] + indices_multidim[1]"
      ],
      "metadata": {
        "colab": {
          "base_uri": "https://localhost:8080/"
        },
        "id": "OoNzjy1l_0We",
        "outputId": "3a6ff0db-9ca0-4d1e-b941-d5c4f91f371f"
      },
      "execution_count": 36,
      "outputs": [
        {
          "output_type": "execute_result",
          "data": {
            "text/plain": [
              "array([0, 0, 1, 1, 2, 2, 3, 3, 4, 4])"
            ]
          },
          "metadata": {},
          "execution_count": 36
        }
      ]
    },
    {
      "cell_type": "code",
      "source": [
        "# Mulitplication\n",
        "\n",
        "indices_multidim[0] * indices_multidim[1]"
      ],
      "metadata": {
        "colab": {
          "base_uri": "https://localhost:8080/"
        },
        "id": "VhhUld5EA4Rh",
        "outputId": "df2ba15c-44eb-4df6-a275-047c406e6090"
      },
      "execution_count": 37,
      "outputs": [
        {
          "output_type": "execute_result",
          "data": {
            "text/plain": [
              "array([0, 0, 0, 0, 0, 0, 0, 0, 0, 0])"
            ]
          },
          "metadata": {},
          "execution_count": 37
        }
      ]
    },
    {
      "cell_type": "code",
      "source": [
        "# Division ( * trying to divide with zero)\n",
        "\n",
        "indices_multidim[0] / indices_multidim[1]"
      ],
      "metadata": {
        "colab": {
          "base_uri": "https://localhost:8080/"
        },
        "id": "tOKdsqLRA-ac",
        "outputId": "262ba245-8978-4ba0-9aa0-3ebc819c997e"
      },
      "execution_count": 38,
      "outputs": [
        {
          "output_type": "stream",
          "name": "stderr",
          "text": [
            "<ipython-input-38-89f43284a613>:3: RuntimeWarning: invalid value encountered in divide\n",
            "  indices_multidim[0] / indices_multidim[1]\n"
          ]
        },
        {
          "output_type": "execute_result",
          "data": {
            "text/plain": [
              "array([nan, nan,  0.,  0.,  0.,  0.,  0.,  0.,  0.,  0.])"
            ]
          },
          "metadata": {},
          "execution_count": 38
        }
      ]
    },
    {
      "cell_type": "code",
      "source": [
        "multidim_manipulate_nparray.sum()"
      ],
      "metadata": {
        "colab": {
          "base_uri": "https://localhost:8080/"
        },
        "id": "2D7O752BBEaI",
        "outputId": "322654f2-bf43-4db7-ba0c-4792c6d75deb"
      },
      "execution_count": 39,
      "outputs": [
        {
          "output_type": "execute_result",
          "data": {
            "text/plain": [
              "4950"
            ]
          },
          "metadata": {},
          "execution_count": 39
        }
      ]
    },
    {
      "cell_type": "code",
      "source": [
        "multidim_manipulate_nparray.shape"
      ],
      "metadata": {
        "colab": {
          "base_uri": "https://localhost:8080/"
        },
        "id": "0Ar8dqMvBMb-",
        "outputId": "3a99e88a-2c41-417b-bd16-c07d7913e001"
      },
      "execution_count": 40,
      "outputs": [
        {
          "output_type": "execute_result",
          "data": {
            "text/plain": [
              "(10, 5, 2)"
            ]
          },
          "metadata": {},
          "execution_count": 40
        }
      ]
    },
    {
      "cell_type": "code",
      "source": [
        "multidim_manipulate_nparray"
      ],
      "metadata": {
        "colab": {
          "base_uri": "https://localhost:8080/"
        },
        "id": "7QSNdKcJB-vt",
        "outputId": "0cbd2f0b-457f-497c-f90c-45499434a6b7"
      },
      "execution_count": 41,
      "outputs": [
        {
          "output_type": "execute_result",
          "data": {
            "text/plain": [
              "array([[[ 0,  1],\n",
              "        [ 2,  3],\n",
              "        [ 4,  5],\n",
              "        [ 6,  7],\n",
              "        [ 8,  9]],\n",
              "\n",
              "       [[10, 11],\n",
              "        [12, 13],\n",
              "        [14, 15],\n",
              "        [16, 17],\n",
              "        [18, 19]],\n",
              "\n",
              "       [[20, 21],\n",
              "        [22, 23],\n",
              "        [24, 25],\n",
              "        [26, 27],\n",
              "        [28, 29]],\n",
              "\n",
              "       [[30, 31],\n",
              "        [32, 33],\n",
              "        [34, 35],\n",
              "        [36, 37],\n",
              "        [38, 39]],\n",
              "\n",
              "       [[40, 41],\n",
              "        [42, 43],\n",
              "        [44, 45],\n",
              "        [46, 47],\n",
              "        [48, 49]],\n",
              "\n",
              "       [[50, 51],\n",
              "        [52, 53],\n",
              "        [54, 55],\n",
              "        [56, 57],\n",
              "        [58, 59]],\n",
              "\n",
              "       [[60, 61],\n",
              "        [62, 63],\n",
              "        [64, 65],\n",
              "        [66, 67],\n",
              "        [68, 69]],\n",
              "\n",
              "       [[70, 71],\n",
              "        [72, 73],\n",
              "        [74, 75],\n",
              "        [76, 77],\n",
              "        [78, 79]],\n",
              "\n",
              "       [[80, 81],\n",
              "        [82, 83],\n",
              "        [84, 85],\n",
              "        [86, 87],\n",
              "        [88, 89]],\n",
              "\n",
              "       [[90, 91],\n",
              "        [92, 93],\n",
              "        [94, 95],\n",
              "        [96, 97],\n",
              "        [98, 99]]])"
            ]
          },
          "metadata": {},
          "execution_count": 41
        }
      ]
    },
    {
      "cell_type": "code",
      "source": [
        "# Used in Feature Engineering , retain the column and column wise sum up\n",
        "multidim_manipulate_nparray.sum(axis=0)"
      ],
      "metadata": {
        "colab": {
          "base_uri": "https://localhost:8080/"
        },
        "id": "XGWzF1GEBaF2",
        "outputId": "f25a552a-c6eb-4fec-c0f9-16b74e72f801"
      },
      "execution_count": 42,
      "outputs": [
        {
          "output_type": "execute_result",
          "data": {
            "text/plain": [
              "array([[450, 460],\n",
              "       [470, 480],\n",
              "       [490, 500],\n",
              "       [510, 520],\n",
              "       [530, 540]])"
            ]
          },
          "metadata": {},
          "execution_count": 42
        }
      ]
    },
    {
      "cell_type": "code",
      "source": [
        "multidim_manipulate_nparray.sum(axis=1)"
      ],
      "metadata": {
        "colab": {
          "base_uri": "https://localhost:8080/"
        },
        "id": "FK34K3smBmnT",
        "outputId": "9030e11b-9c6e-47e3-d6fa-9bee25933353"
      },
      "execution_count": 43,
      "outputs": [
        {
          "output_type": "execute_result",
          "data": {
            "text/plain": [
              "array([[ 20,  25],\n",
              "       [ 70,  75],\n",
              "       [120, 125],\n",
              "       [170, 175],\n",
              "       [220, 225],\n",
              "       [270, 275],\n",
              "       [320, 325],\n",
              "       [370, 375],\n",
              "       [420, 425],\n",
              "       [470, 475]])"
            ]
          },
          "metadata": {},
          "execution_count": 43
        }
      ]
    },
    {
      "cell_type": "code",
      "source": [
        "multidim_manipulate_nparray.sum(axis=2)"
      ],
      "metadata": {
        "colab": {
          "base_uri": "https://localhost:8080/"
        },
        "id": "Me846eCKBs_z",
        "outputId": "9238817e-0cbb-48c4-a25b-f94d15b73ede"
      },
      "execution_count": 44,
      "outputs": [
        {
          "output_type": "execute_result",
          "data": {
            "text/plain": [
              "array([[  1,   5,   9,  13,  17],\n",
              "       [ 21,  25,  29,  33,  37],\n",
              "       [ 41,  45,  49,  53,  57],\n",
              "       [ 61,  65,  69,  73,  77],\n",
              "       [ 81,  85,  89,  93,  97],\n",
              "       [101, 105, 109, 113, 117],\n",
              "       [121, 125, 129, 133, 137],\n",
              "       [141, 145, 149, 153, 157],\n",
              "       [161, 165, 169, 173, 177],\n",
              "       [181, 185, 189, 193, 197]])"
            ]
          },
          "metadata": {},
          "execution_count": 44
        }
      ]
    },
    {
      "cell_type": "code",
      "source": [
        "multidim_manipulate_nparray.max(axis=0)"
      ],
      "metadata": {
        "colab": {
          "base_uri": "https://localhost:8080/"
        },
        "id": "dwh02_8FDVOV",
        "outputId": "b12214f9-1a2a-4fea-9f9a-0076de03439f"
      },
      "execution_count": 45,
      "outputs": [
        {
          "output_type": "execute_result",
          "data": {
            "text/plain": [
              "array([[90, 91],\n",
              "       [92, 93],\n",
              "       [94, 95],\n",
              "       [96, 97],\n",
              "       [98, 99]])"
            ]
          },
          "metadata": {},
          "execution_count": 45
        }
      ]
    },
    {
      "cell_type": "code",
      "source": [
        "multidim_manipulate_nparray.min(axis=1)"
      ],
      "metadata": {
        "colab": {
          "base_uri": "https://localhost:8080/"
        },
        "id": "_FgdaHtVDXWv",
        "outputId": "152602a3-47d2-469d-cf6d-4b7a8fb56f15"
      },
      "execution_count": 46,
      "outputs": [
        {
          "output_type": "execute_result",
          "data": {
            "text/plain": [
              "array([[ 0,  1],\n",
              "       [10, 11],\n",
              "       [20, 21],\n",
              "       [30, 31],\n",
              "       [40, 41],\n",
              "       [50, 51],\n",
              "       [60, 61],\n",
              "       [70, 71],\n",
              "       [80, 81],\n",
              "       [90, 91]])"
            ]
          },
          "metadata": {},
          "execution_count": 46
        }
      ]
    },
    {
      "cell_type": "code",
      "source": [
        "# To generate random numbers for numpy array\n",
        "random_generator = np.random.default_rng()"
      ],
      "metadata": {
        "id": "gs3H7ZLKDZYY"
      },
      "execution_count": 47,
      "outputs": []
    },
    {
      "cell_type": "code",
      "source": [
        "random_generator.random(10)"
      ],
      "metadata": {
        "colab": {
          "base_uri": "https://localhost:8080/"
        },
        "id": "QlkGxsQkDbls",
        "outputId": "31470d4c-a7d3-4e17-8a24-b3efd7fd629a"
      },
      "execution_count": 48,
      "outputs": [
        {
          "output_type": "execute_result",
          "data": {
            "text/plain": [
              "array([0.60807174, 0.77541182, 0.43204228, 0.8861464 , 0.58273463,\n",
              "       0.52347549, 0.09537464, 0.37819195, 0.45407935, 0.95987356])"
            ]
          },
          "metadata": {},
          "execution_count": 48
        }
      ]
    },
    {
      "cell_type": "code",
      "source": [
        "non_unique = np.ones(100)"
      ],
      "metadata": {
        "id": "vRKRqetCEZX3"
      },
      "execution_count": 49,
      "outputs": []
    },
    {
      "cell_type": "code",
      "source": [
        "# Obtain unique values and count\n",
        "\n",
        "np.unique(non_unique,return_counts=True)"
      ],
      "metadata": {
        "colab": {
          "base_uri": "https://localhost:8080/"
        },
        "id": "5zHO6GHPEuz1",
        "outputId": "30d047aa-2328-4f5e-d34a-c0036832d8ef"
      },
      "execution_count": 50,
      "outputs": [
        {
          "output_type": "execute_result",
          "data": {
            "text/plain": [
              "(array([1.]), array([100]))"
            ]
          },
          "metadata": {},
          "execution_count": 50
        }
      ]
    },
    {
      "cell_type": "code",
      "source": [
        "multidim_manipulate_nparray.flatten()"
      ],
      "metadata": {
        "colab": {
          "base_uri": "https://localhost:8080/"
        },
        "id": "aerldOixE0sT",
        "outputId": "6325e5e1-4b06-40dc-cb24-0b7798102085"
      },
      "execution_count": 51,
      "outputs": [
        {
          "output_type": "execute_result",
          "data": {
            "text/plain": [
              "array([ 0,  1,  2,  3,  4,  5,  6,  7,  8,  9, 10, 11, 12, 13, 14, 15, 16,\n",
              "       17, 18, 19, 20, 21, 22, 23, 24, 25, 26, 27, 28, 29, 30, 31, 32, 33,\n",
              "       34, 35, 36, 37, 38, 39, 40, 41, 42, 43, 44, 45, 46, 47, 48, 49, 50,\n",
              "       51, 52, 53, 54, 55, 56, 57, 58, 59, 60, 61, 62, 63, 64, 65, 66, 67,\n",
              "       68, 69, 70, 71, 72, 73, 74, 75, 76, 77, 78, 79, 80, 81, 82, 83, 84,\n",
              "       85, 86, 87, 88, 89, 90, 91, 92, 93, 94, 95, 96, 97, 98, 99])"
            ]
          },
          "metadata": {},
          "execution_count": 51
        }
      ]
    },
    {
      "cell_type": "code",
      "source": [
        "# Transpose an array\n",
        "multidim_manipulate_nparray.T.shape"
      ],
      "metadata": {
        "colab": {
          "base_uri": "https://localhost:8080/"
        },
        "id": "ECNlla71FYbe",
        "outputId": "91a96a92-da43-43fa-a1ba-6e0836e4632a"
      },
      "execution_count": 52,
      "outputs": [
        {
          "output_type": "execute_result",
          "data": {
            "text/plain": [
              "(2, 5, 10)"
            ]
          },
          "metadata": {},
          "execution_count": 52
        }
      ]
    },
    {
      "cell_type": "code",
      "source": [
        "multidim_manipulate_nparray.shape"
      ],
      "metadata": {
        "colab": {
          "base_uri": "https://localhost:8080/"
        },
        "id": "aw2EQKS-FbUf",
        "outputId": "b7614aee-6d02-4613-99ef-181e74dff132"
      },
      "execution_count": 53,
      "outputs": [
        {
          "output_type": "execute_result",
          "data": {
            "text/plain": [
              "(10, 5, 2)"
            ]
          },
          "metadata": {},
          "execution_count": 53
        }
      ]
    },
    {
      "cell_type": "code",
      "source": [
        "np.flip(multidim_manipulate_nparray,axis=2)"
      ],
      "metadata": {
        "colab": {
          "base_uri": "https://localhost:8080/"
        },
        "id": "WFtkUhsSFsGK",
        "outputId": "efeef603-7007-4e31-b29e-cddb8907f2c0"
      },
      "execution_count": 54,
      "outputs": [
        {
          "output_type": "execute_result",
          "data": {
            "text/plain": [
              "array([[[ 1,  0],\n",
              "        [ 3,  2],\n",
              "        [ 5,  4],\n",
              "        [ 7,  6],\n",
              "        [ 9,  8]],\n",
              "\n",
              "       [[11, 10],\n",
              "        [13, 12],\n",
              "        [15, 14],\n",
              "        [17, 16],\n",
              "        [19, 18]],\n",
              "\n",
              "       [[21, 20],\n",
              "        [23, 22],\n",
              "        [25, 24],\n",
              "        [27, 26],\n",
              "        [29, 28]],\n",
              "\n",
              "       [[31, 30],\n",
              "        [33, 32],\n",
              "        [35, 34],\n",
              "        [37, 36],\n",
              "        [39, 38]],\n",
              "\n",
              "       [[41, 40],\n",
              "        [43, 42],\n",
              "        [45, 44],\n",
              "        [47, 46],\n",
              "        [49, 48]],\n",
              "\n",
              "       [[51, 50],\n",
              "        [53, 52],\n",
              "        [55, 54],\n",
              "        [57, 56],\n",
              "        [59, 58]],\n",
              "\n",
              "       [[61, 60],\n",
              "        [63, 62],\n",
              "        [65, 64],\n",
              "        [67, 66],\n",
              "        [69, 68]],\n",
              "\n",
              "       [[71, 70],\n",
              "        [73, 72],\n",
              "        [75, 74],\n",
              "        [77, 76],\n",
              "        [79, 78]],\n",
              "\n",
              "       [[81, 80],\n",
              "        [83, 82],\n",
              "        [85, 84],\n",
              "        [87, 86],\n",
              "        [89, 88]],\n",
              "\n",
              "       [[91, 90],\n",
              "        [93, 92],\n",
              "        [95, 94],\n",
              "        [97, 96],\n",
              "        [99, 98]]])"
            ]
          },
          "metadata": {},
          "execution_count": 54
        }
      ]
    },
    {
      "cell_type": "code",
      "source": [
        "np.sort(np.flip(multidim_manipulate_nparray,axis=2).flatten())"
      ],
      "metadata": {
        "colab": {
          "base_uri": "https://localhost:8080/"
        },
        "id": "Xmt_cVE6FxWr",
        "outputId": "c198cbf9-3a70-42fb-e6ca-94332241d71e"
      },
      "execution_count": 55,
      "outputs": [
        {
          "output_type": "execute_result",
          "data": {
            "text/plain": [
              "array([ 0,  1,  2,  3,  4,  5,  6,  7,  8,  9, 10, 11, 12, 13, 14, 15, 16,\n",
              "       17, 18, 19, 20, 21, 22, 23, 24, 25, 26, 27, 28, 29, 30, 31, 32, 33,\n",
              "       34, 35, 36, 37, 38, 39, 40, 41, 42, 43, 44, 45, 46, 47, 48, 49, 50,\n",
              "       51, 52, 53, 54, 55, 56, 57, 58, 59, 60, 61, 62, 63, 64, 65, 66, 67,\n",
              "       68, 69, 70, 71, 72, 73, 74, 75, 76, 77, 78, 79, 80, 81, 82, 83, 84,\n",
              "       85, 86, 87, 88, 89, 90, 91, 92, 93, 94, 95, 96, 97, 98, 99])"
            ]
          },
          "metadata": {},
          "execution_count": 55
        }
      ]
    },
    {
      "cell_type": "code",
      "source": [
        "multidim_array?"
      ],
      "metadata": {
        "id": "bDPzyDBbGJwr"
      },
      "execution_count": 56,
      "outputs": []
    },
    {
      "cell_type": "code",
      "source": [
        "len??"
      ],
      "metadata": {
        "id": "Z2xx0BHiGirA"
      },
      "execution_count": 57,
      "outputs": []
    }
  ]
}