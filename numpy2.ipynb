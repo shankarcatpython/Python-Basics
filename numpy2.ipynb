{
  "nbformat": 4,
  "nbformat_minor": 0,
  "metadata": {
    "colab": {
      "private_outputs": true,
      "provenance": [],
      "authorship_tag": "ABX9TyMHx57E8Uh29Xh9WDTNmVv3"
    },
    "kernelspec": {
      "name": "python3",
      "display_name": "Python 3"
    },
    "language_info": {
      "name": "python"
    }
  },
  "cells": [
    {
      "cell_type": "code",
      "execution_count": null,
      "metadata": {
        "id": "XTTynBOSUw7L"
      },
      "outputs": [],
      "source": [
        "import numpy as np"
      ]
    },
    {
      "cell_type": "code",
      "source": [
        "# Create a diagonal martix\n",
        "diagonal_array = np.eye(3)"
      ],
      "metadata": {
        "id": "qbEt05zeU3W_"
      },
      "execution_count": null,
      "outputs": []
    },
    {
      "cell_type": "code",
      "source": [
        "diagonal_array"
      ],
      "metadata": {
        "id": "0blOnAX7VAFm"
      },
      "execution_count": null,
      "outputs": []
    },
    {
      "cell_type": "code",
      "source": [
        "# Another way of creating a random Matrix\n",
        "random_nparray = np.random.random((5,5))"
      ],
      "metadata": {
        "id": "023-j433VBJC"
      },
      "execution_count": null,
      "outputs": []
    },
    {
      "cell_type": "code",
      "source": [
        "# Datatype of an Numpy array\n",
        "random_nparray.dtype"
      ],
      "metadata": {
        "id": "qza_adrpVG_D"
      },
      "execution_count": null,
      "outputs": []
    },
    {
      "cell_type": "code",
      "source": [
        "# Exponential Value\n",
        "np.exp(random_nparray)"
      ],
      "metadata": {
        "id": "vcGiHkauVgx-"
      },
      "execution_count": null,
      "outputs": []
    },
    {
      "cell_type": "code",
      "source": [
        "# Mean Value\n",
        "random_nparray.mean()"
      ],
      "metadata": {
        "id": "6YckhOIZWCSk"
      },
      "execution_count": null,
      "outputs": []
    },
    {
      "cell_type": "code",
      "source": [
        "# Median Value\n",
        "np.median(random_nparray)"
      ],
      "metadata": {
        "id": "8w7KyNy6WJaq"
      },
      "execution_count": null,
      "outputs": []
    },
    {
      "cell_type": "code",
      "source": [
        "first_array = np.arange(0,20).reshape(10,2)\n",
        "second_array = np.eye((2))"
      ],
      "metadata": {
        "id": "Fp0Hib4OWpq3"
      },
      "execution_count": null,
      "outputs": []
    },
    {
      "cell_type": "code",
      "source": [
        "# Dot product - Matrix Multiplication\n",
        "first_array.dot(second_array)"
      ],
      "metadata": {
        "id": "Mv7GNW43WvYO"
      },
      "execution_count": null,
      "outputs": []
    }
  ]
}